{
 "cells": [
  {
   "cell_type": "code",
   "execution_count": 28,
   "metadata": {},
   "outputs": [],
   "source": [
    "string = \"ATTTGGATT\""
   ]
  },
  {
   "cell_type": "code",
   "execution_count": 32,
   "metadata": {},
   "outputs": [],
   "source": [
    "#This line defines the function to count the observed substrings , and it takes two arguments \n",
    "#Which  represents the input string, and k representing the size of the substrings.\n",
    "def count_observed_substrings(string, k):\n",
    "#This line creates an empty set  to store the observed substrings.\n",
    "    substrings = set()\n",
    "    #This line starts a loop that iterates i from 0 to len(string) - k, which represents the starting index of #each substring. \n",
    "#The range() function is used to generate the indices.\n",
    "    for i in range(len(string) - k + 1):\n",
    "        #this line extracts a substring from the input string by slicing, \n",
    "        #it starts at the index I and ends at #index I+k and creates the substring of size ‘k’ \n",
    "        substring = string[i:i+k]\n",
    "        #This line adds the extracted substring to the substrings set.  \n",
    "        #sets only store unique elements, so It #makes it so that each observed substring is added only once.\n",
    "        substrings.add(substring)\n",
    "        #this returns the count of the observed substrings by  returning the length of the substrings set\n",
    "    return len(substrings)\n"
   ]
  },
  {
   "cell_type": "code",
   "execution_count": 30,
   "metadata": {},
   "outputs": [],
   "source": [
    "#This line defines a function called count_possible_substrings that takes the two arguments: string \n",
    "#represents the input string, and k represents the size of the substrings.\n",
    "def count_possible_substrings(string, k):\n",
    "    #This line checks if the value of k is less than 1 or greater than the length of the input string string. If either of the conditions are true, \n",
    "    #it means that the value of k is invalid for the given string.\n",
    "    #If the value of k is invalid for the given string, the function immediately returns 0, indicating that there are no possible substrings.\n",
    "    if k < 1 or k > len(string):\n",
    "        return 0\n",
    "    #This line checks if the value of k is 1.\n",
    "# which means each individual character of the string can be considered as a substring of size 1. \n",
    "#the function returns the length of the string as the count of possible substrings , since the number #of possible substrings is equal to the length of the string when k is 1 \n",
    "    elif k == 1:\n",
    "        return len(string)\n",
    "    #the line is reached when k is a valid value (within range of the string length) \n",
    "    #and returns the count as the result \n",
    "    else:\n",
    "        return len(string) - k + 1\n"
   ]
  },
  {
   "cell_type": "code",
   "execution_count": 33,
   "metadata": {},
   "outputs": [
    {
     "name": "stdout",
     "output_type": "stream",
     "text": [
      "5\n",
      "6\n",
      "8\n"
     ]
    }
   ],
   "source": [
    "#answering part one and counting the number of different observed substrings of size 2 in the example\n",
    "print(count_observed_substrings(string,2))\n",
    "#answering part one and counting the number of different observed substrings of any size\n",
    "print(count_observed_substrings(string,3))\n",
    "#Extending this work to count the number of different observed substrings of all possible sizes.\n",
    "print(count_possible_substrings(string, 2))"
   ]
  },
  {
   "cell_type": "code",
   "execution_count": 36,
   "metadata": {},
   "outputs": [],
   "source": [
    "#defines the function linguistic complexity , and takes string as an argument\n",
    "def linguistic_complexity(string, k):\n",
    "    observed = count_observed_substrings(string, k)\n",
    "    possible = count_possible_substrings(string, k)\n",
    "    if possible == 0:\n",
    "        return 0\n",
    "    else:\n",
    "        return observed / possible"
   ]
  },
  {
   "cell_type": "code",
   "execution_count": 42,
   "metadata": {},
   "outputs": [
    {
     "name": "stdout",
     "output_type": "stream",
     "text": [
      "Linguistic Complexity: 0.8571428571428571\n"
     ]
    }
   ],
   "source": [
    "#testing linguistic complexity on example string\n",
    "#setting variable equal to a sequence\n",
    "dna_sequence = \"ATTTGGATT\"\n",
    "#setting the number k \n",
    "k = 3\n",
    "#calculating the linguistic complexity of the sequence using the linguistic complexity function\n",
    "result = linguistic_complexity(dna_sequence, k)\n",
    "#printing the results \n",
    "print(\"Linguistic Complexity:\", result)"
   ]
  },
  {
   "cell_type": "code",
   "execution_count": 42,
   "metadata": {},
   "outputs": [],
   "source": [
    "#this line imports pathlib as Path\n",
    "from pathlib import Path\n",
    "#this reads the text file and saves it to the variable txt\n",
    "txt = Path('sequence.txt').read_text()"
   ]
  },
  {
   "cell_type": "code",
   "execution_count": 45,
   "metadata": {},
   "outputs": [
    {
     "name": "stdout",
     "output_type": "stream",
     "text": [
      "Observed Count: 23\n",
      "Possible Count: 992\n",
      "linguistic complexity: 0.023185483870967742\n"
     ]
    }
   ],
   "source": [
    "#setting the size of k \n",
    "k = 2\n",
    "#calculating the observed substrings for the text file \n",
    "observed_count = count_observed_substrings(txt, k)\n",
    "#calculating the possible # substrings for the text file \n",
    "possible_count =  count_possible_substrings(txt, k)\n",
    "#calculating the possible # substrings for the text file \n",
    "lcforfile =  linguistic_complexity(txt, k)\n",
    "#printing observed count, possible count , and linguistic complexity\n",
    "print(\"Observed Count:\", observed_count)\n",
    "print(\"Possible Count:\", possible_count)\n",
    "print(\"linguistic complexity:\",lcforfile)\n",
    "\n"
   ]
  },
  {
   "cell_type": "code",
   "execution_count": null,
   "metadata": {},
   "outputs": [],
   "source": []
  }
 ],
 "metadata": {
  "kernelspec": {
   "display_name": "Python 3",
   "language": "python",
   "name": "python3"
  },
  "language_info": {
   "codemirror_mode": {
    "name": "ipython",
    "version": 3
   },
   "file_extension": ".py",
   "mimetype": "text/x-python",
   "name": "python",
   "nbconvert_exporter": "python",
   "pygments_lexer": "ipython3",
   "version": "3.6.8"
  }
 },
 "nbformat": 4,
 "nbformat_minor": 4
}
