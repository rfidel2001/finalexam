{
 "cells": [
  {
   "cell_type": "code",
   "execution_count": 5,
   "metadata": {},
   "outputs": [
    {
     "name": "stdout",
     "output_type": "stream",
     "text": [
      "5\n",
      "6\n",
      "8\n",
      "Linguistic Complexity: 0.8571428571428571\n",
      "Observed Count: 23\n",
      "Possible Count: 992\n",
      "linguistic complexity: 0.023185483870967742\n"
     ]
    }
   ],
   "source": [
    "%run -i 'finalexam.py'"
   ]
  },
  {
   "cell_type": "code",
   "execution_count": 16,
   "metadata": {},
   "outputs": [],
   "source": [
    "from finalexam import * "
   ]
  },
  {
   "cell_type": "code",
   "execution_count": 14,
   "metadata": {},
   "outputs": [
    {
     "name": "stdout",
     "output_type": "stream",
     "text": [
      "Help on function linguistic_complexity in module finalexam:\n",
      "\n",
      "linguistic_complexity(string, k)\n",
      "    This is a  function that computes the linguistic complexity , and it takes two arguments \n",
      "    which  represents the input string, and k representing the size of the substrings.\n",
      "\n"
     ]
    }
   ],
   "source": [
    "help(linguistic_complexity)"
   ]
  },
  {
   "cell_type": "code",
   "execution_count": 15,
   "metadata": {},
   "outputs": [
    {
     "data": {
      "text/plain": [
       "8"
      ]
     },
     "execution_count": 15,
     "metadata": {},
     "output_type": "execute_result"
    }
   ],
   "source": [
    "count_possible_substrings(string,2)"
   ]
  },
  {
   "cell_type": "code",
   "execution_count": 18,
   "metadata": {},
   "outputs": [
    {
     "name": "stdout",
     "output_type": "stream",
     "text": [
      "the number of different observed substrings of size 2 for example sequence ATTTGGATT \n",
      "5\n",
      "the number of different observed substrings of any size (3) ATTTGGATT \n",
      "6\n",
      "the number of different possible substrings for ATTTGGATT \n",
      "8\n",
      "Linguistic Complexity for sequence ATTTGGATT: 0.8571428571428571\n",
      "Observed Count for sequence file: 23\n",
      "Possible Count for sequence file: 992\n",
      "linguistic complexity for sequence file: 0.023185483870967742\n"
     ]
    }
   ],
   "source": [
    "%run -i 'finalexam.py'"
   ]
  },
  {
   "cell_type": "code",
   "execution_count": 19,
   "metadata": {},
   "outputs": [
    {
     "data": {
      "text/plain": [
       "3"
      ]
     },
     "execution_count": 19,
     "metadata": {},
     "output_type": "execute_result"
    }
   ],
   "source": [
    "count_observed_substrings(string,-2)"
   ]
  },
  {
   "cell_type": "code",
   "execution_count": null,
   "metadata": {},
   "outputs": [],
   "source": []
  }
 ],
 "metadata": {
  "kernelspec": {
   "display_name": "Python 3",
   "language": "python",
   "name": "python3"
  },
  "language_info": {
   "codemirror_mode": {
    "name": "ipython",
    "version": 3
   },
   "file_extension": ".py",
   "mimetype": "text/x-python",
   "name": "python",
   "nbconvert_exporter": "python",
   "pygments_lexer": "ipython3",
   "version": "3.6.8"
  }
 },
 "nbformat": 4,
 "nbformat_minor": 4
}
