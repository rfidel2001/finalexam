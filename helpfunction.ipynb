{
 "cells": [
  {
   "cell_type": "code",
   "execution_count": 5,
   "metadata": {},
   "outputs": [],
   "source": [
    "from firstscript import * "
   ]
  },
  {
   "cell_type": "code",
   "execution_count": 6,
   "metadata": {},
   "outputs": [
    {
     "name": "stdout",
     "output_type": "stream",
     "text": [
      "Help on function add_odds in module firstscript:\n",
      "\n",
      "add_odds(a, b)\n",
      "    Add up all odd numbers between a and b (inclusive of b)\n",
      "    \n",
      "    Args:\n",
      "        a:an int less than b and 10000\n",
      "        b:an int greater than a and less than 10000\n",
      "    \n",
      "    Return: \n",
      "        int: sum of odd numbers between a and b\n",
      "\n"
     ]
    }
   ],
   "source": [
    "help(add_odds)"
   ]
  },
  {
   "cell_type": "code",
   "execution_count": null,
   "metadata": {},
   "outputs": [],
   "source": []
  }
 ],
 "metadata": {
  "kernelspec": {
   "display_name": "Python 3",
   "language": "python",
   "name": "python3"
  },
  "language_info": {
   "codemirror_mode": {
    "name": "ipython",
    "version": 3
   },
   "file_extension": ".py",
   "mimetype": "text/x-python",
   "name": "python",
   "nbconvert_exporter": "python",
   "pygments_lexer": "ipython3",
   "version": "3.6.8"
  }
 },
 "nbformat": 4,
 "nbformat_minor": 4
}
