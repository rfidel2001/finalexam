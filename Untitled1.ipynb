{
 "cells": [
  {
   "cell_type": "code",
   "execution_count": 8,
   "metadata": {},
   "outputs": [
    {
     "name": "stdout",
     "output_type": "stream",
     "text": [
      "counting the number of different observed substrings of size 2 in the example\n",
      "5\n",
      "counting the number of different observed substrings of any size \n",
      "6\n",
      "Extending this work to count the number of different observed substrings of all possible sizes\n",
      "8\n",
      "Linguistic Complexity of dna sequence example: 0.8571428571428571\n",
      "Observed Count of sequence file: 23\n",
      "Possible Count of sequence file: 992\n",
      "linguistic complexity of sequence file : 0.023185483870967742\n"
     ]
    }
   ],
   "source": [
    "%run -i 'finalexam.py'"
   ]
  },
  {
   "cell_type": "code",
   "execution_count": null,
   "metadata": {},
   "outputs": [],
   "source": []
  }
 ],
 "metadata": {
  "kernelspec": {
   "display_name": "Python 3",
   "language": "python",
   "name": "python3"
  },
  "language_info": {
   "codemirror_mode": {
    "name": "ipython",
    "version": 3
   },
   "file_extension": ".py",
   "mimetype": "text/x-python",
   "name": "python",
   "nbconvert_exporter": "python",
   "pygments_lexer": "ipython3",
   "version": "3.6.8"
  }
 },
 "nbformat": 4,
 "nbformat_minor": 4
}
